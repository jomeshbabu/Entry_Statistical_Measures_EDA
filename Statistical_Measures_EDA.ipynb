{
 "cells": [
  {
   "cell_type": "code",
   "execution_count": 1,
   "id": "805d42b3-2bfe-4fec-a036-083175ccf97f",
   "metadata": {},
   "outputs": [],
   "source": [
    "import numpy as np\n",
    "import pandas as pd\n",
    "import seaborn as sns\n",
    "import matplotlib.pyplot as plt\n",
    "from sklearn.preprocessing import StandardScaler\n",
    "from scipy.stats import skew, kurtosis\n"
   ]
  },
  {
   "cell_type": "code",
   "execution_count": 2,
   "id": "fc8ab124-5d24-4041-be71-ea470310238d",
   "metadata": {},
   "outputs": [],
   "source": [
    "import warnings\n",
    "warnings.filterwarnings(\"ignore\") # to prevent warning msgs"
   ]
  },
  {
   "cell_type": "code",
   "execution_count": 3,
   "id": "2414c5a6-b801-407f-a217-c3b2e556c622",
   "metadata": {},
   "outputs": [],
   "source": [
    "dataset = pd.read_csv('house_price.csv')"
   ]
  },
  {
   "cell_type": "code",
   "execution_count": 4,
   "id": "1981c7db-1ba1-4f59-ba6a-68dc26fd2ccb",
   "metadata": {},
   "outputs": [],
   "source": [
    "df=pd.DataFrame(dataset)"
   ]
  },
  {
   "cell_type": "code",
   "execution_count": 9,
   "id": "174c1b79-e201-484e-997a-0d9a55b2a69b",
   "metadata": {},
   "outputs": [
    {
     "data": {
      "text/html": [
       "<div>\n",
       "<style scoped>\n",
       "    .dataframe tbody tr th:only-of-type {\n",
       "        vertical-align: middle;\n",
       "    }\n",
       "\n",
       "    .dataframe tbody tr th {\n",
       "        vertical-align: top;\n",
       "    }\n",
       "\n",
       "    .dataframe thead th {\n",
       "        text-align: right;\n",
       "    }\n",
       "</style>\n",
       "<table border=\"1\" class=\"dataframe\">\n",
       "  <thead>\n",
       "    <tr style=\"text-align: right;\">\n",
       "      <th></th>\n",
       "      <th>location</th>\n",
       "      <th>size</th>\n",
       "      <th>total_sqft</th>\n",
       "      <th>bath</th>\n",
       "      <th>price</th>\n",
       "      <th>bhk</th>\n",
       "      <th>price_per_sqft</th>\n",
       "    </tr>\n",
       "  </thead>\n",
       "  <tbody>\n",
       "    <tr>\n",
       "      <th>0</th>\n",
       "      <td>Electronic City Phase II</td>\n",
       "      <td>2 BHK</td>\n",
       "      <td>1056.0</td>\n",
       "      <td>2.0</td>\n",
       "      <td>39.07</td>\n",
       "      <td>2</td>\n",
       "      <td>3699</td>\n",
       "    </tr>\n",
       "    <tr>\n",
       "      <th>1</th>\n",
       "      <td>Chikka Tirupathi</td>\n",
       "      <td>4 Bedroom</td>\n",
       "      <td>2600.0</td>\n",
       "      <td>5.0</td>\n",
       "      <td>120.00</td>\n",
       "      <td>4</td>\n",
       "      <td>4615</td>\n",
       "    </tr>\n",
       "    <tr>\n",
       "      <th>2</th>\n",
       "      <td>Uttarahalli</td>\n",
       "      <td>3 BHK</td>\n",
       "      <td>1440.0</td>\n",
       "      <td>2.0</td>\n",
       "      <td>62.00</td>\n",
       "      <td>3</td>\n",
       "      <td>4305</td>\n",
       "    </tr>\n",
       "    <tr>\n",
       "      <th>3</th>\n",
       "      <td>Lingadheeranahalli</td>\n",
       "      <td>3 BHK</td>\n",
       "      <td>1521.0</td>\n",
       "      <td>3.0</td>\n",
       "      <td>95.00</td>\n",
       "      <td>3</td>\n",
       "      <td>6245</td>\n",
       "    </tr>\n",
       "    <tr>\n",
       "      <th>4</th>\n",
       "      <td>Kothanur</td>\n",
       "      <td>2 BHK</td>\n",
       "      <td>1200.0</td>\n",
       "      <td>2.0</td>\n",
       "      <td>51.00</td>\n",
       "      <td>2</td>\n",
       "      <td>4250</td>\n",
       "    </tr>\n",
       "    <tr>\n",
       "      <th>...</th>\n",
       "      <td>...</td>\n",
       "      <td>...</td>\n",
       "      <td>...</td>\n",
       "      <td>...</td>\n",
       "      <td>...</td>\n",
       "      <td>...</td>\n",
       "      <td>...</td>\n",
       "    </tr>\n",
       "    <tr>\n",
       "      <th>13195</th>\n",
       "      <td>Whitefield</td>\n",
       "      <td>5 Bedroom</td>\n",
       "      <td>3453.0</td>\n",
       "      <td>4.0</td>\n",
       "      <td>231.00</td>\n",
       "      <td>5</td>\n",
       "      <td>6689</td>\n",
       "    </tr>\n",
       "    <tr>\n",
       "      <th>13196</th>\n",
       "      <td>other</td>\n",
       "      <td>4 BHK</td>\n",
       "      <td>3600.0</td>\n",
       "      <td>5.0</td>\n",
       "      <td>400.00</td>\n",
       "      <td>4</td>\n",
       "      <td>11111</td>\n",
       "    </tr>\n",
       "    <tr>\n",
       "      <th>13197</th>\n",
       "      <td>Raja Rajeshwari Nagar</td>\n",
       "      <td>2 BHK</td>\n",
       "      <td>1141.0</td>\n",
       "      <td>2.0</td>\n",
       "      <td>60.00</td>\n",
       "      <td>2</td>\n",
       "      <td>5258</td>\n",
       "    </tr>\n",
       "    <tr>\n",
       "      <th>13198</th>\n",
       "      <td>Padmanabhanagar</td>\n",
       "      <td>4 BHK</td>\n",
       "      <td>4689.0</td>\n",
       "      <td>4.0</td>\n",
       "      <td>488.00</td>\n",
       "      <td>4</td>\n",
       "      <td>10407</td>\n",
       "    </tr>\n",
       "    <tr>\n",
       "      <th>13199</th>\n",
       "      <td>Doddathoguru</td>\n",
       "      <td>1 BHK</td>\n",
       "      <td>550.0</td>\n",
       "      <td>1.0</td>\n",
       "      <td>17.00</td>\n",
       "      <td>1</td>\n",
       "      <td>3090</td>\n",
       "    </tr>\n",
       "  </tbody>\n",
       "</table>\n",
       "<p>13200 rows × 7 columns</p>\n",
       "</div>"
      ],
      "text/plain": [
       "                       location       size  total_sqft  bath   price  bhk  \\\n",
       "0      Electronic City Phase II      2 BHK      1056.0   2.0   39.07    2   \n",
       "1              Chikka Tirupathi  4 Bedroom      2600.0   5.0  120.00    4   \n",
       "2                   Uttarahalli      3 BHK      1440.0   2.0   62.00    3   \n",
       "3            Lingadheeranahalli      3 BHK      1521.0   3.0   95.00    3   \n",
       "4                      Kothanur      2 BHK      1200.0   2.0   51.00    2   \n",
       "...                         ...        ...         ...   ...     ...  ...   \n",
       "13195                Whitefield  5 Bedroom      3453.0   4.0  231.00    5   \n",
       "13196                     other      4 BHK      3600.0   5.0  400.00    4   \n",
       "13197     Raja Rajeshwari Nagar      2 BHK      1141.0   2.0   60.00    2   \n",
       "13198           Padmanabhanagar      4 BHK      4689.0   4.0  488.00    4   \n",
       "13199              Doddathoguru      1 BHK       550.0   1.0   17.00    1   \n",
       "\n",
       "       price_per_sqft  \n",
       "0                3699  \n",
       "1                4615  \n",
       "2                4305  \n",
       "3                6245  \n",
       "4                4250  \n",
       "...               ...  \n",
       "13195            6689  \n",
       "13196           11111  \n",
       "13197            5258  \n",
       "13198           10407  \n",
       "13199            3090  \n",
       "\n",
       "[13200 rows x 7 columns]"
      ]
     },
     "execution_count": 9,
     "metadata": {},
     "output_type": "execute_result"
    }
   ],
   "source": [
    "df"
   ]
  },
  {
   "cell_type": "markdown",
   "id": "152e343c-7b1a-4d39-8ce4-bfd0ae111936",
   "metadata": {},
   "source": [
    "# Q1. Perform basic Exploratory Data Analysis (EDA)"
   ]
  },
  {
   "cell_type": "code",
   "execution_count": 11,
   "id": "30d07e6b-73f0-4d1c-8df9-5aa4eec579d9",
   "metadata": {},
   "outputs": [
    {
     "data": {
      "text/html": [
       "<div>\n",
       "<style scoped>\n",
       "    .dataframe tbody tr th:only-of-type {\n",
       "        vertical-align: middle;\n",
       "    }\n",
       "\n",
       "    .dataframe tbody tr th {\n",
       "        vertical-align: top;\n",
       "    }\n",
       "\n",
       "    .dataframe thead th {\n",
       "        text-align: right;\n",
       "    }\n",
       "</style>\n",
       "<table border=\"1\" class=\"dataframe\">\n",
       "  <thead>\n",
       "    <tr style=\"text-align: right;\">\n",
       "      <th></th>\n",
       "      <th>location</th>\n",
       "      <th>size</th>\n",
       "      <th>total_sqft</th>\n",
       "      <th>bath</th>\n",
       "      <th>price</th>\n",
       "      <th>bhk</th>\n",
       "      <th>price_per_sqft</th>\n",
       "    </tr>\n",
       "  </thead>\n",
       "  <tbody>\n",
       "    <tr>\n",
       "      <th>0</th>\n",
       "      <td>Electronic City Phase II</td>\n",
       "      <td>2 BHK</td>\n",
       "      <td>1056.0</td>\n",
       "      <td>2.0</td>\n",
       "      <td>39.07</td>\n",
       "      <td>2</td>\n",
       "      <td>3699</td>\n",
       "    </tr>\n",
       "    <tr>\n",
       "      <th>1</th>\n",
       "      <td>Chikka Tirupathi</td>\n",
       "      <td>4 Bedroom</td>\n",
       "      <td>2600.0</td>\n",
       "      <td>5.0</td>\n",
       "      <td>120.00</td>\n",
       "      <td>4</td>\n",
       "      <td>4615</td>\n",
       "    </tr>\n",
       "    <tr>\n",
       "      <th>2</th>\n",
       "      <td>Uttarahalli</td>\n",
       "      <td>3 BHK</td>\n",
       "      <td>1440.0</td>\n",
       "      <td>2.0</td>\n",
       "      <td>62.00</td>\n",
       "      <td>3</td>\n",
       "      <td>4305</td>\n",
       "    </tr>\n",
       "    <tr>\n",
       "      <th>3</th>\n",
       "      <td>Lingadheeranahalli</td>\n",
       "      <td>3 BHK</td>\n",
       "      <td>1521.0</td>\n",
       "      <td>3.0</td>\n",
       "      <td>95.00</td>\n",
       "      <td>3</td>\n",
       "      <td>6245</td>\n",
       "    </tr>\n",
       "    <tr>\n",
       "      <th>4</th>\n",
       "      <td>Kothanur</td>\n",
       "      <td>2 BHK</td>\n",
       "      <td>1200.0</td>\n",
       "      <td>2.0</td>\n",
       "      <td>51.00</td>\n",
       "      <td>2</td>\n",
       "      <td>4250</td>\n",
       "    </tr>\n",
       "  </tbody>\n",
       "</table>\n",
       "</div>"
      ],
      "text/plain": [
       "                   location       size  total_sqft  bath   price  bhk  \\\n",
       "0  Electronic City Phase II      2 BHK      1056.0   2.0   39.07    2   \n",
       "1          Chikka Tirupathi  4 Bedroom      2600.0   5.0  120.00    4   \n",
       "2               Uttarahalli      3 BHK      1440.0   2.0   62.00    3   \n",
       "3        Lingadheeranahalli      3 BHK      1521.0   3.0   95.00    3   \n",
       "4                  Kothanur      2 BHK      1200.0   2.0   51.00    2   \n",
       "\n",
       "   price_per_sqft  \n",
       "0            3699  \n",
       "1            4615  \n",
       "2            4305  \n",
       "3            6245  \n",
       "4            4250  "
      ]
     },
     "execution_count": 11,
     "metadata": {},
     "output_type": "execute_result"
    }
   ],
   "source": [
    "df.head()  #first few lines"
   ]
  },
  {
   "cell_type": "code",
   "execution_count": 13,
   "id": "d7e9c244-2959-4c6c-8ade-21c5f090704f",
   "metadata": {},
   "outputs": [
    {
     "name": "stdout",
     "output_type": "stream",
     "text": [
      "<class 'pandas.core.frame.DataFrame'>\n",
      "RangeIndex: 13200 entries, 0 to 13199\n",
      "Data columns (total 7 columns):\n",
      " #   Column          Non-Null Count  Dtype  \n",
      "---  ------          --------------  -----  \n",
      " 0   location        13200 non-null  object \n",
      " 1   size            13200 non-null  object \n",
      " 2   total_sqft      13200 non-null  float64\n",
      " 3   bath            13200 non-null  float64\n",
      " 4   price           13200 non-null  float64\n",
      " 5   bhk             13200 non-null  int64  \n",
      " 6   price_per_sqft  13200 non-null  int64  \n",
      "dtypes: float64(3), int64(2), object(2)\n",
      "memory usage: 722.0+ KB\n"
     ]
    }
   ],
   "source": [
    "df.info() # no of rows, columns and datatypes"
   ]
  },
  {
   "cell_type": "markdown",
   "id": "9ff02884-2e9f-4ccf-8430-fdb4246a0d05",
   "metadata": {},
   "source": [
    "# STEP 2: Missing values"
   ]
  },
  {
   "cell_type": "code",
   "execution_count": 15,
   "id": "b75c625e-12d9-4f85-ac5a-525193467c5b",
   "metadata": {},
   "outputs": [
    {
     "data": {
      "text/html": [
       "<div>\n",
       "<style scoped>\n",
       "    .dataframe tbody tr th:only-of-type {\n",
       "        vertical-align: middle;\n",
       "    }\n",
       "\n",
       "    .dataframe tbody tr th {\n",
       "        vertical-align: top;\n",
       "    }\n",
       "\n",
       "    .dataframe thead th {\n",
       "        text-align: right;\n",
       "    }\n",
       "</style>\n",
       "<table border=\"1\" class=\"dataframe\">\n",
       "  <thead>\n",
       "    <tr style=\"text-align: right;\">\n",
       "      <th></th>\n",
       "      <th>location</th>\n",
       "      <th>size</th>\n",
       "      <th>total_sqft</th>\n",
       "      <th>bath</th>\n",
       "      <th>price</th>\n",
       "      <th>bhk</th>\n",
       "      <th>price_per_sqft</th>\n",
       "    </tr>\n",
       "  </thead>\n",
       "  <tbody>\n",
       "    <tr>\n",
       "      <th>0</th>\n",
       "      <td>False</td>\n",
       "      <td>False</td>\n",
       "      <td>False</td>\n",
       "      <td>False</td>\n",
       "      <td>False</td>\n",
       "      <td>False</td>\n",
       "      <td>False</td>\n",
       "    </tr>\n",
       "    <tr>\n",
       "      <th>1</th>\n",
       "      <td>False</td>\n",
       "      <td>False</td>\n",
       "      <td>False</td>\n",
       "      <td>False</td>\n",
       "      <td>False</td>\n",
       "      <td>False</td>\n",
       "      <td>False</td>\n",
       "    </tr>\n",
       "    <tr>\n",
       "      <th>2</th>\n",
       "      <td>False</td>\n",
       "      <td>False</td>\n",
       "      <td>False</td>\n",
       "      <td>False</td>\n",
       "      <td>False</td>\n",
       "      <td>False</td>\n",
       "      <td>False</td>\n",
       "    </tr>\n",
       "    <tr>\n",
       "      <th>3</th>\n",
       "      <td>False</td>\n",
       "      <td>False</td>\n",
       "      <td>False</td>\n",
       "      <td>False</td>\n",
       "      <td>False</td>\n",
       "      <td>False</td>\n",
       "      <td>False</td>\n",
       "    </tr>\n",
       "    <tr>\n",
       "      <th>4</th>\n",
       "      <td>False</td>\n",
       "      <td>False</td>\n",
       "      <td>False</td>\n",
       "      <td>False</td>\n",
       "      <td>False</td>\n",
       "      <td>False</td>\n",
       "      <td>False</td>\n",
       "    </tr>\n",
       "    <tr>\n",
       "      <th>...</th>\n",
       "      <td>...</td>\n",
       "      <td>...</td>\n",
       "      <td>...</td>\n",
       "      <td>...</td>\n",
       "      <td>...</td>\n",
       "      <td>...</td>\n",
       "      <td>...</td>\n",
       "    </tr>\n",
       "    <tr>\n",
       "      <th>13195</th>\n",
       "      <td>False</td>\n",
       "      <td>False</td>\n",
       "      <td>False</td>\n",
       "      <td>False</td>\n",
       "      <td>False</td>\n",
       "      <td>False</td>\n",
       "      <td>False</td>\n",
       "    </tr>\n",
       "    <tr>\n",
       "      <th>13196</th>\n",
       "      <td>False</td>\n",
       "      <td>False</td>\n",
       "      <td>False</td>\n",
       "      <td>False</td>\n",
       "      <td>False</td>\n",
       "      <td>False</td>\n",
       "      <td>False</td>\n",
       "    </tr>\n",
       "    <tr>\n",
       "      <th>13197</th>\n",
       "      <td>False</td>\n",
       "      <td>False</td>\n",
       "      <td>False</td>\n",
       "      <td>False</td>\n",
       "      <td>False</td>\n",
       "      <td>False</td>\n",
       "      <td>False</td>\n",
       "    </tr>\n",
       "    <tr>\n",
       "      <th>13198</th>\n",
       "      <td>False</td>\n",
       "      <td>False</td>\n",
       "      <td>False</td>\n",
       "      <td>False</td>\n",
       "      <td>False</td>\n",
       "      <td>False</td>\n",
       "      <td>False</td>\n",
       "    </tr>\n",
       "    <tr>\n",
       "      <th>13199</th>\n",
       "      <td>False</td>\n",
       "      <td>False</td>\n",
       "      <td>False</td>\n",
       "      <td>False</td>\n",
       "      <td>False</td>\n",
       "      <td>False</td>\n",
       "      <td>False</td>\n",
       "    </tr>\n",
       "  </tbody>\n",
       "</table>\n",
       "<p>13200 rows × 7 columns</p>\n",
       "</div>"
      ],
      "text/plain": [
       "       location   size  total_sqft   bath  price    bhk  price_per_sqft\n",
       "0         False  False       False  False  False  False           False\n",
       "1         False  False       False  False  False  False           False\n",
       "2         False  False       False  False  False  False           False\n",
       "3         False  False       False  False  False  False           False\n",
       "4         False  False       False  False  False  False           False\n",
       "...         ...    ...         ...    ...    ...    ...             ...\n",
       "13195     False  False       False  False  False  False           False\n",
       "13196     False  False       False  False  False  False           False\n",
       "13197     False  False       False  False  False  False           False\n",
       "13198     False  False       False  False  False  False           False\n",
       "13199     False  False       False  False  False  False           False\n",
       "\n",
       "[13200 rows x 7 columns]"
      ]
     },
     "execution_count": 15,
     "metadata": {},
     "output_type": "execute_result"
    }
   ],
   "source": [
    "df.isnull() # find missing value and count"
   ]
  },
  {
   "cell_type": "code",
   "execution_count": 206,
   "id": "563bcd57-eb53-4046-b2b0-cb793c99efd4",
   "metadata": {},
   "outputs": [
    {
     "data": {
      "text/plain": [
       "location          0\n",
       "size              0\n",
       "total_sqft        0\n",
       "bath              0\n",
       "price             0\n",
       "bhk               0\n",
       "price_per_sqft    0\n",
       "dtype: int64"
      ]
     },
     "execution_count": 206,
     "metadata": {},
     "output_type": "execute_result"
    }
   ],
   "source": [
    "df.isnull().sum()"
   ]
  },
  {
   "cell_type": "markdown",
   "id": "6f44a2da-c6ea-44c9-ab6d-f10ecf054d67",
   "metadata": {},
   "source": [
    "# FOR EDA -Step 3: Descriptive Statistics"
   ]
  },
  {
   "cell_type": "code",
   "execution_count": 25,
   "id": "5533531f-dab6-4cda-ad4e-b337af30af07",
   "metadata": {},
   "outputs": [
    {
     "data": {
      "text/html": [
       "<div>\n",
       "<style scoped>\n",
       "    .dataframe tbody tr th:only-of-type {\n",
       "        vertical-align: middle;\n",
       "    }\n",
       "\n",
       "    .dataframe tbody tr th {\n",
       "        vertical-align: top;\n",
       "    }\n",
       "\n",
       "    .dataframe thead th {\n",
       "        text-align: right;\n",
       "    }\n",
       "</style>\n",
       "<table border=\"1\" class=\"dataframe\">\n",
       "  <thead>\n",
       "    <tr style=\"text-align: right;\">\n",
       "      <th></th>\n",
       "      <th>total_sqft</th>\n",
       "      <th>bath</th>\n",
       "      <th>price</th>\n",
       "      <th>bhk</th>\n",
       "      <th>price_per_sqft</th>\n",
       "    </tr>\n",
       "  </thead>\n",
       "  <tbody>\n",
       "    <tr>\n",
       "      <th>count</th>\n",
       "      <td>13200.000000</td>\n",
       "      <td>13200.000000</td>\n",
       "      <td>13200.000000</td>\n",
       "      <td>13200.000000</td>\n",
       "      <td>1.320000e+04</td>\n",
       "    </tr>\n",
       "    <tr>\n",
       "      <th>mean</th>\n",
       "      <td>1555.302783</td>\n",
       "      <td>2.691136</td>\n",
       "      <td>112.276178</td>\n",
       "      <td>2.800833</td>\n",
       "      <td>7.920337e+03</td>\n",
       "    </tr>\n",
       "    <tr>\n",
       "      <th>std</th>\n",
       "      <td>1237.323445</td>\n",
       "      <td>1.338915</td>\n",
       "      <td>149.175995</td>\n",
       "      <td>1.292843</td>\n",
       "      <td>1.067272e+05</td>\n",
       "    </tr>\n",
       "    <tr>\n",
       "      <th>min</th>\n",
       "      <td>1.000000</td>\n",
       "      <td>1.000000</td>\n",
       "      <td>8.000000</td>\n",
       "      <td>1.000000</td>\n",
       "      <td>2.670000e+02</td>\n",
       "    </tr>\n",
       "    <tr>\n",
       "      <th>25%</th>\n",
       "      <td>1100.000000</td>\n",
       "      <td>2.000000</td>\n",
       "      <td>50.000000</td>\n",
       "      <td>2.000000</td>\n",
       "      <td>4.267000e+03</td>\n",
       "    </tr>\n",
       "    <tr>\n",
       "      <th>50%</th>\n",
       "      <td>1275.000000</td>\n",
       "      <td>2.000000</td>\n",
       "      <td>71.850000</td>\n",
       "      <td>3.000000</td>\n",
       "      <td>5.438000e+03</td>\n",
       "    </tr>\n",
       "    <tr>\n",
       "      <th>75%</th>\n",
       "      <td>1672.000000</td>\n",
       "      <td>3.000000</td>\n",
       "      <td>120.000000</td>\n",
       "      <td>3.000000</td>\n",
       "      <td>7.317000e+03</td>\n",
       "    </tr>\n",
       "    <tr>\n",
       "      <th>max</th>\n",
       "      <td>52272.000000</td>\n",
       "      <td>40.000000</td>\n",
       "      <td>3600.000000</td>\n",
       "      <td>43.000000</td>\n",
       "      <td>1.200000e+07</td>\n",
       "    </tr>\n",
       "  </tbody>\n",
       "</table>\n",
       "</div>"
      ],
      "text/plain": [
       "         total_sqft          bath         price           bhk  price_per_sqft\n",
       "count  13200.000000  13200.000000  13200.000000  13200.000000    1.320000e+04\n",
       "mean    1555.302783      2.691136    112.276178      2.800833    7.920337e+03\n",
       "std     1237.323445      1.338915    149.175995      1.292843    1.067272e+05\n",
       "min        1.000000      1.000000      8.000000      1.000000    2.670000e+02\n",
       "25%     1100.000000      2.000000     50.000000      2.000000    4.267000e+03\n",
       "50%     1275.000000      2.000000     71.850000      3.000000    5.438000e+03\n",
       "75%     1672.000000      3.000000    120.000000      3.000000    7.317000e+03\n",
       "max    52272.000000     40.000000   3600.000000     43.000000    1.200000e+07"
      ]
     },
     "execution_count": 25,
     "metadata": {},
     "output_type": "execute_result"
    }
   ],
   "source": [
    "df.describe() # it gives -Summary statistics for numerical columns, such as mean, median, standard deviation etc."
   ]
  },
  {
   "cell_type": "markdown",
   "id": "1705259e-990a-44b2-9478-14c9098b3f2d",
   "metadata": {},
   "source": [
    "# STEP 4:Check for Duplicates"
   ]
  },
  {
   "cell_type": "code",
   "execution_count": 15,
   "id": "bcb76fcc-9ebe-4d50-8bfd-58e0bca46242",
   "metadata": {},
   "outputs": [
    {
     "data": {
      "text/plain": [
       "0        False\n",
       "1        False\n",
       "2        False\n",
       "3        False\n",
       "4        False\n",
       "         ...  \n",
       "13195    False\n",
       "13196    False\n",
       "13197    False\n",
       "13198    False\n",
       "13199     True\n",
       "Length: 13200, dtype: bool"
      ]
     },
     "execution_count": 15,
     "metadata": {},
     "output_type": "execute_result"
    }
   ],
   "source": [
    "df.duplicated()"
   ]
  },
  {
   "cell_type": "code",
   "execution_count": 17,
   "id": "5fb87cd9-fe2d-4815-a8eb-e0bae26eb358",
   "metadata": {},
   "outputs": [
    {
     "data": {
      "text/plain": [
       "1049"
      ]
     },
     "execution_count": 17,
     "metadata": {},
     "output_type": "execute_result"
    }
   ],
   "source": [
    "df.duplicated().sum()"
   ]
  },
  {
   "cell_type": "code",
   "execution_count": 19,
   "id": "7a3d728f-2bb9-426b-8a82-10a5495d54bc",
   "metadata": {},
   "outputs": [],
   "source": [
    "df1=df.drop_duplicates()"
   ]
  },
  {
   "cell_type": "code",
   "execution_count": 21,
   "id": "1e8d9fdf-af9d-4613-bc60-9dc41d533e57",
   "metadata": {},
   "outputs": [
    {
     "data": {
      "text/plain": [
       "0"
      ]
     },
     "execution_count": 21,
     "metadata": {},
     "output_type": "execute_result"
    }
   ],
   "source": [
    "df1.duplicated().sum()"
   ]
  },
  {
   "cell_type": "code",
   "execution_count": 23,
   "id": "b4fff2cc-13fb-4425-9fa9-725a46320b1d",
   "metadata": {},
   "outputs": [
    {
     "name": "stdout",
     "output_type": "stream",
     "text": [
      "Columns in DataFrame: Index(['location', 'size', 'total_sqft', 'bath', 'price', 'bhk',\n",
      "       'price_per_sqft'],\n",
      "      dtype='object')\n"
     ]
    }
   ],
   "source": [
    "print(\"Columns in DataFrame:\", df1.columns)"
   ]
  },
  {
   "cell_type": "markdown",
   "id": "5d752be1-aedc-44c9-b67e-884f60a90d00",
   "metadata": {},
   "source": [
    "# STEP 5 :Categorize Columns (Numerical and Categorical)"
   ]
  },
  {
   "cell_type": "code",
   "execution_count": 25,
   "id": "96ca712a-a2a9-4bc0-8b19-9e172ddefebb",
   "metadata": {},
   "outputs": [],
   "source": [
    "numerical_columns = df1.select_dtypes(include=['number']).columns\n",
    "categorical_columns = df1.select_dtypes(include=['object']).columns"
   ]
  },
  {
   "cell_type": "code",
   "execution_count": 27,
   "id": "c87e8edc-48b2-4bfc-8fed-ce43b0b2b516",
   "metadata": {},
   "outputs": [
    {
     "data": {
      "text/plain": [
       "Index(['total_sqft', 'bath', 'price', 'bhk', 'price_per_sqft'], dtype='object')"
      ]
     },
     "execution_count": 27,
     "metadata": {},
     "output_type": "execute_result"
    }
   ],
   "source": [
    "numerical_columns"
   ]
  },
  {
   "cell_type": "code",
   "execution_count": 22,
   "id": "cc0973f1-1570-4691-a897-53acfc9f8ff3",
   "metadata": {},
   "outputs": [
    {
     "data": {
      "text/plain": [
       "Index(['location', 'size'], dtype='object')"
      ]
     },
     "execution_count": 22,
     "metadata": {},
     "output_type": "execute_result"
    }
   ],
   "source": [
    "categorical_columns"
   ]
  },
  {
   "cell_type": "markdown",
   "id": "643be332-6b97-43fd-8e1a-c4f0f29bd75b",
   "metadata": {},
   "source": [
    "# Q2. Detect the outliers using following methods and remove it using methods like trimming / capping/ imputation using mean or median (Score: 4)\n",
    "## a) Mean and Standard deviation\n",
    "## b)Percentile method\n",
    "## c) IQR(Inter quartile range method)\n",
    "## d) Z Score method"
   ]
  },
  {
   "cell_type": "markdown",
   "id": "9a241717-1f9c-43aa-86bd-e890ed8e784d",
   "metadata": {},
   "source": [
    "# DETECT AND REMOVE OUTLIERS"
   ]
  },
  {
   "cell_type": "markdown",
   "id": "fa43d18a-dd27-44a1-8e07-6ffa5149daab",
   "metadata": {},
   "source": [
    "## Mean and Standard deviation method"
   ]
  },
  {
   "cell_type": "code",
   "execution_count": 291,
   "id": "5d07eb78-2c45-4791-b153-c23376f873fd",
   "metadata": {},
   "outputs": [
    {
     "name": "stdout",
     "output_type": "stream",
     "text": [
      "Upper Bound (Mean ± 3*Std Dev): 341831.3445273039\n",
      "Lower Bound (Mean ± 3*Std Dev): -325566.06084694836\n"
     ]
    }
   ],
   "source": [
    "# mean and std deviation cal\n",
    "mean = df1['price_per_sqft'].mean()\n",
    "std_dev = df1['price_per_sqft'].std()\n",
    "\n",
    "# bounds for outliers (values more than 3 standard deviations away from the mean)\n",
    "lower_bound_mean = mean - 3 * std_dev\n",
    "upper_bound_mean = mean + 3 * std_dev\n",
    "print('Upper Bound (Mean ± 3*Std Dev):', upper_bound_mean)\n",
    "print('Lower Bound (Mean ± 3*Std Dev):', lower_bound_mean)"
   ]
  },
  {
   "cell_type": "code",
   "execution_count": 293,
   "id": "53514802-28ef-43ad-9c04-eb750946538d",
   "metadata": {},
   "outputs": [
    {
     "name": "stdout",
     "output_type": "stream",
     "text": [
      "Outliers detected: 5\n"
     ]
    }
   ],
   "source": [
    "# Find the outliers\n",
    "outliers_mean_std = df1.loc[(df1['price_per_sqft'] > upper_bound_mean) | (df1['price_per_sqft'] < lower_bound_mean)]\n",
    "print('Outliers detected:', len(outliers_mean_std))"
   ]
  },
  {
   "cell_type": "code",
   "execution_count": 295,
   "id": "84093d90-d1f5-404d-bdd9-6e662792ec6b",
   "metadata": {},
   "outputs": [
    {
     "name": "stdout",
     "output_type": "stream",
     "text": [
      "Before removing outliers: 12151\n",
      "After removing outliers : 12146\n",
      "Outliers removed: 5\n"
     ]
    }
   ],
   "source": [
    "# Trim the outliers - by keeping only data within the bounds\n",
    "df1_trimmed_mean_std = df1.loc[(df1['price_per_sqft'] <= upper_bound_mean) & (df1['price_per_sqft'] >= lower_bound_mean)]\n",
    "print('Before removing outliers:', len(df1))\n",
    "print('After removing outliers :', len(df1_trimmed_mean_std))\n",
    "print('Outliers removed:', len(df1) - len(df1_trimmed_mean_std))\n"
   ]
  },
  {
   "cell_type": "markdown",
   "id": "243c9e06-12d7-4048-88fb-00a9007a0619",
   "metadata": {},
   "source": [
    "## PERCENTILE METHOD"
   ]
  },
  {
   "cell_type": "code",
   "execution_count": 299,
   "id": "663cc99b-6113-4316-b5e4-19ce58d2cc87",
   "metadata": {},
   "outputs": [
    {
     "name": "stdout",
     "output_type": "stream",
     "text": [
      "upper limit: 24000.0\n",
      "lower_limit: 2532.0\n"
     ]
    }
   ],
   "source": [
    "upper_limit = df1['price_per_sqft'].quantile(0.99)\n",
    "lower_limit= df1['price_per_sqft'].quantile(0.01)\n",
    "print('upper limit:',upper_limit)\n",
    "print('lower_limit:', lower_limit)"
   ]
  },
  {
   "cell_type": "code",
   "execution_count": 301,
   "id": "b8e64690-969c-4f54-af49-4c5ddaae2b18",
   "metadata": {},
   "outputs": [
    {
     "data": {
      "text/html": [
       "<div>\n",
       "<style scoped>\n",
       "    .dataframe tbody tr th:only-of-type {\n",
       "        vertical-align: middle;\n",
       "    }\n",
       "\n",
       "    .dataframe tbody tr th {\n",
       "        vertical-align: top;\n",
       "    }\n",
       "\n",
       "    .dataframe thead th {\n",
       "        text-align: right;\n",
       "    }\n",
       "</style>\n",
       "<table border=\"1\" class=\"dataframe\">\n",
       "  <thead>\n",
       "    <tr style=\"text-align: right;\">\n",
       "      <th></th>\n",
       "      <th>location</th>\n",
       "      <th>size</th>\n",
       "      <th>total_sqft</th>\n",
       "      <th>bath</th>\n",
       "      <th>price</th>\n",
       "      <th>bhk</th>\n",
       "      <th>price_per_sqft</th>\n",
       "    </tr>\n",
       "  </thead>\n",
       "  <tbody>\n",
       "    <tr>\n",
       "      <th>9</th>\n",
       "      <td>other</td>\n",
       "      <td>6 Bedroom</td>\n",
       "      <td>1020.0</td>\n",
       "      <td>6.0</td>\n",
       "      <td>370.0</td>\n",
       "      <td>6</td>\n",
       "      <td>36274</td>\n",
       "    </tr>\n",
       "    <tr>\n",
       "      <th>20</th>\n",
       "      <td>Kengeri</td>\n",
       "      <td>1 BHK</td>\n",
       "      <td>600.0</td>\n",
       "      <td>1.0</td>\n",
       "      <td>15.0</td>\n",
       "      <td>1</td>\n",
       "      <td>2500</td>\n",
       "    </tr>\n",
       "    <tr>\n",
       "      <th>45</th>\n",
       "      <td>HSR Layout</td>\n",
       "      <td>8 Bedroom</td>\n",
       "      <td>600.0</td>\n",
       "      <td>9.0</td>\n",
       "      <td>200.0</td>\n",
       "      <td>8</td>\n",
       "      <td>33333</td>\n",
       "    </tr>\n",
       "    <tr>\n",
       "      <th>130</th>\n",
       "      <td>Electronic City</td>\n",
       "      <td>2 BHK</td>\n",
       "      <td>880.0</td>\n",
       "      <td>1.0</td>\n",
       "      <td>16.5</td>\n",
       "      <td>2</td>\n",
       "      <td>1875</td>\n",
       "    </tr>\n",
       "    <tr>\n",
       "      <th>169</th>\n",
       "      <td>Attibele</td>\n",
       "      <td>1 BHK</td>\n",
       "      <td>450.0</td>\n",
       "      <td>1.0</td>\n",
       "      <td>11.0</td>\n",
       "      <td>1</td>\n",
       "      <td>2444</td>\n",
       "    </tr>\n",
       "    <tr>\n",
       "      <th>...</th>\n",
       "      <td>...</td>\n",
       "      <td>...</td>\n",
       "      <td>...</td>\n",
       "      <td>...</td>\n",
       "      <td>...</td>\n",
       "      <td>...</td>\n",
       "      <td>...</td>\n",
       "    </tr>\n",
       "    <tr>\n",
       "      <th>12948</th>\n",
       "      <td>other</td>\n",
       "      <td>10 Bedroom</td>\n",
       "      <td>7150.0</td>\n",
       "      <td>13.0</td>\n",
       "      <td>3600.0</td>\n",
       "      <td>10</td>\n",
       "      <td>50349</td>\n",
       "    </tr>\n",
       "    <tr>\n",
       "      <th>13013</th>\n",
       "      <td>other</td>\n",
       "      <td>4 Bedroom</td>\n",
       "      <td>1200.0</td>\n",
       "      <td>5.0</td>\n",
       "      <td>350.0</td>\n",
       "      <td>4</td>\n",
       "      <td>29166</td>\n",
       "    </tr>\n",
       "    <tr>\n",
       "      <th>13078</th>\n",
       "      <td>other</td>\n",
       "      <td>4 Bedroom</td>\n",
       "      <td>9200.0</td>\n",
       "      <td>4.0</td>\n",
       "      <td>2600.0</td>\n",
       "      <td>4</td>\n",
       "      <td>28260</td>\n",
       "    </tr>\n",
       "    <tr>\n",
       "      <th>13081</th>\n",
       "      <td>other</td>\n",
       "      <td>6 Bedroom</td>\n",
       "      <td>8000.0</td>\n",
       "      <td>6.0</td>\n",
       "      <td>2800.0</td>\n",
       "      <td>6</td>\n",
       "      <td>35000</td>\n",
       "    </tr>\n",
       "    <tr>\n",
       "      <th>13185</th>\n",
       "      <td>Hulimavu</td>\n",
       "      <td>1 BHK</td>\n",
       "      <td>500.0</td>\n",
       "      <td>1.0</td>\n",
       "      <td>220.0</td>\n",
       "      <td>1</td>\n",
       "      <td>44000</td>\n",
       "    </tr>\n",
       "  </tbody>\n",
       "</table>\n",
       "<p>243 rows × 7 columns</p>\n",
       "</div>"
      ],
      "text/plain": [
       "              location        size  total_sqft  bath   price  bhk  \\\n",
       "9                other   6 Bedroom      1020.0   6.0   370.0    6   \n",
       "20             Kengeri       1 BHK       600.0   1.0    15.0    1   \n",
       "45          HSR Layout   8 Bedroom       600.0   9.0   200.0    8   \n",
       "130    Electronic City       2 BHK       880.0   1.0    16.5    2   \n",
       "169           Attibele       1 BHK       450.0   1.0    11.0    1   \n",
       "...                ...         ...         ...   ...     ...  ...   \n",
       "12948            other  10 Bedroom      7150.0  13.0  3600.0   10   \n",
       "13013            other   4 Bedroom      1200.0   5.0   350.0    4   \n",
       "13078            other   4 Bedroom      9200.0   4.0  2600.0    4   \n",
       "13081            other   6 Bedroom      8000.0   6.0  2800.0    6   \n",
       "13185         Hulimavu       1 BHK       500.0   1.0   220.0    1   \n",
       "\n",
       "       price_per_sqft  \n",
       "9               36274  \n",
       "20               2500  \n",
       "45              33333  \n",
       "130              1875  \n",
       "169              2444  \n",
       "...               ...  \n",
       "12948           50349  \n",
       "13013           29166  \n",
       "13078           28260  \n",
       "13081           35000  \n",
       "13185           44000  \n",
       "\n",
       "[243 rows x 7 columns]"
      ]
     },
     "execution_count": 301,
     "metadata": {},
     "output_type": "execute_result"
    }
   ],
   "source": [
    "# find outliers\n",
    "df1.loc[(df1['price_per_sqft'] > upper_limit) | (df1['price_per_sqft'] < lower_limit)]"
   ]
  },
  {
   "cell_type": "code",
   "execution_count": 303,
   "id": "049ad05f-307d-433b-9861-2523250fd8c2",
   "metadata": {},
   "outputs": [
    {
     "name": "stdout",
     "output_type": "stream",
     "text": [
      "before removing outliers: 12151\n",
      "after removing outliers: 11908\n",
      "outliers: 243\n"
     ]
    }
   ],
   "source": [
    "# trimming (trimming the outlier data)\n",
    "new_df = df1.loc[(df1['price_per_sqft'] <= upper_limit) & (df1['price_per_sqft']>=lower_limit)]\n",
    "print('before removing outliers:', len(df1))\n",
    "print('after removing outliers:', len(new_df))\n",
    "print('outliers:',len(df1)-len(new_df))"
   ]
  },
  {
   "cell_type": "markdown",
   "id": "db124795-8500-4646-aa6d-98f465fde960",
   "metadata": {},
   "source": [
    "## IQR METHOD"
   ]
  },
  {
   "cell_type": "code",
   "execution_count": 305,
   "id": "6a2fda6c-f7bb-422a-bada-a90fcc72802a",
   "metadata": {},
   "outputs": [],
   "source": [
    "q1 = df1['price_per_sqft'].quantile(0.25)\n",
    "q3 = df1['price_per_sqft'].quantile(0.75)\n",
    "iqr = q3 -q1"
   ]
  },
  {
   "cell_type": "code",
   "execution_count": 307,
   "id": "7a4f085d-eaf2-4255-bca0-e8349d45b197",
   "metadata": {},
   "outputs": [
    {
     "name": "stdout",
     "output_type": "stream",
     "text": [
      "q1: 4312.0\n",
      "q3: 7461.0\n",
      "iqr: 3149.0\n"
     ]
    }
   ],
   "source": [
    "print ('q1:' ,q1)\n",
    "print ('q3:' ,q3)\n",
    "print ('iqr:' ,iqr)\n"
   ]
  },
  {
   "cell_type": "code",
   "execution_count": 309,
   "id": "1696bb5b-3bdc-4132-9194-e6db428a7452",
   "metadata": {},
   "outputs": [
    {
     "name": "stdout",
     "output_type": "stream",
     "text": [
      "upper limit: 2737.5\n",
      "lower_limit: -411.5\n"
     ]
    }
   ],
   "source": [
    "upper_limit=q3-(1.5*iqr)\n",
    "lower_limit=q1-(1.5*iqr)\n",
    "print('upper limit:',upper_limit)\n",
    "print('lower_limit:', lower_limit)"
   ]
  },
  {
   "cell_type": "code",
   "execution_count": 311,
   "id": "fef7cea4-6148-4749-9e73-5e514eb60029",
   "metadata": {},
   "outputs": [
    {
     "data": {
      "text/html": [
       "<div>\n",
       "<style scoped>\n",
       "    .dataframe tbody tr th:only-of-type {\n",
       "        vertical-align: middle;\n",
       "    }\n",
       "\n",
       "    .dataframe tbody tr th {\n",
       "        vertical-align: top;\n",
       "    }\n",
       "\n",
       "    .dataframe thead th {\n",
       "        text-align: right;\n",
       "    }\n",
       "</style>\n",
       "<table border=\"1\" class=\"dataframe\">\n",
       "  <thead>\n",
       "    <tr style=\"text-align: right;\">\n",
       "      <th></th>\n",
       "      <th>location</th>\n",
       "      <th>size</th>\n",
       "      <th>total_sqft</th>\n",
       "      <th>bath</th>\n",
       "      <th>price</th>\n",
       "      <th>bhk</th>\n",
       "      <th>price_per_sqft</th>\n",
       "    </tr>\n",
       "  </thead>\n",
       "  <tbody>\n",
       "    <tr>\n",
       "      <th>0</th>\n",
       "      <td>Electronic City Phase II</td>\n",
       "      <td>2 BHK</td>\n",
       "      <td>1056.0</td>\n",
       "      <td>2.0</td>\n",
       "      <td>39.07</td>\n",
       "      <td>2</td>\n",
       "      <td>3699</td>\n",
       "    </tr>\n",
       "    <tr>\n",
       "      <th>1</th>\n",
       "      <td>Chikka Tirupathi</td>\n",
       "      <td>4 Bedroom</td>\n",
       "      <td>2600.0</td>\n",
       "      <td>5.0</td>\n",
       "      <td>120.00</td>\n",
       "      <td>4</td>\n",
       "      <td>4615</td>\n",
       "    </tr>\n",
       "    <tr>\n",
       "      <th>2</th>\n",
       "      <td>Uttarahalli</td>\n",
       "      <td>3 BHK</td>\n",
       "      <td>1440.0</td>\n",
       "      <td>2.0</td>\n",
       "      <td>62.00</td>\n",
       "      <td>3</td>\n",
       "      <td>4305</td>\n",
       "    </tr>\n",
       "    <tr>\n",
       "      <th>3</th>\n",
       "      <td>Lingadheeranahalli</td>\n",
       "      <td>3 BHK</td>\n",
       "      <td>1521.0</td>\n",
       "      <td>3.0</td>\n",
       "      <td>95.00</td>\n",
       "      <td>3</td>\n",
       "      <td>6245</td>\n",
       "    </tr>\n",
       "    <tr>\n",
       "      <th>4</th>\n",
       "      <td>Kothanur</td>\n",
       "      <td>2 BHK</td>\n",
       "      <td>1200.0</td>\n",
       "      <td>2.0</td>\n",
       "      <td>51.00</td>\n",
       "      <td>2</td>\n",
       "      <td>4250</td>\n",
       "    </tr>\n",
       "    <tr>\n",
       "      <th>...</th>\n",
       "      <td>...</td>\n",
       "      <td>...</td>\n",
       "      <td>...</td>\n",
       "      <td>...</td>\n",
       "      <td>...</td>\n",
       "      <td>...</td>\n",
       "      <td>...</td>\n",
       "    </tr>\n",
       "    <tr>\n",
       "      <th>13194</th>\n",
       "      <td>Green Glen Layout</td>\n",
       "      <td>3 BHK</td>\n",
       "      <td>1715.0</td>\n",
       "      <td>3.0</td>\n",
       "      <td>112.00</td>\n",
       "      <td>3</td>\n",
       "      <td>6530</td>\n",
       "    </tr>\n",
       "    <tr>\n",
       "      <th>13195</th>\n",
       "      <td>Whitefield</td>\n",
       "      <td>5 Bedroom</td>\n",
       "      <td>3453.0</td>\n",
       "      <td>4.0</td>\n",
       "      <td>231.00</td>\n",
       "      <td>5</td>\n",
       "      <td>6689</td>\n",
       "    </tr>\n",
       "    <tr>\n",
       "      <th>13196</th>\n",
       "      <td>other</td>\n",
       "      <td>4 BHK</td>\n",
       "      <td>3600.0</td>\n",
       "      <td>5.0</td>\n",
       "      <td>400.00</td>\n",
       "      <td>4</td>\n",
       "      <td>11111</td>\n",
       "    </tr>\n",
       "    <tr>\n",
       "      <th>13197</th>\n",
       "      <td>Raja Rajeshwari Nagar</td>\n",
       "      <td>2 BHK</td>\n",
       "      <td>1141.0</td>\n",
       "      <td>2.0</td>\n",
       "      <td>60.00</td>\n",
       "      <td>2</td>\n",
       "      <td>5258</td>\n",
       "    </tr>\n",
       "    <tr>\n",
       "      <th>13198</th>\n",
       "      <td>Padmanabhanagar</td>\n",
       "      <td>4 BHK</td>\n",
       "      <td>4689.0</td>\n",
       "      <td>4.0</td>\n",
       "      <td>488.00</td>\n",
       "      <td>4</td>\n",
       "      <td>10407</td>\n",
       "    </tr>\n",
       "  </tbody>\n",
       "</table>\n",
       "<p>11956 rows × 7 columns</p>\n",
       "</div>"
      ],
      "text/plain": [
       "                       location       size  total_sqft  bath   price  bhk  \\\n",
       "0      Electronic City Phase II      2 BHK      1056.0   2.0   39.07    2   \n",
       "1              Chikka Tirupathi  4 Bedroom      2600.0   5.0  120.00    4   \n",
       "2                   Uttarahalli      3 BHK      1440.0   2.0   62.00    3   \n",
       "3            Lingadheeranahalli      3 BHK      1521.0   3.0   95.00    3   \n",
       "4                      Kothanur      2 BHK      1200.0   2.0   51.00    2   \n",
       "...                         ...        ...         ...   ...     ...  ...   \n",
       "13194         Green Glen Layout      3 BHK      1715.0   3.0  112.00    3   \n",
       "13195                Whitefield  5 Bedroom      3453.0   4.0  231.00    5   \n",
       "13196                     other      4 BHK      3600.0   5.0  400.00    4   \n",
       "13197     Raja Rajeshwari Nagar      2 BHK      1141.0   2.0   60.00    2   \n",
       "13198           Padmanabhanagar      4 BHK      4689.0   4.0  488.00    4   \n",
       "\n",
       "       price_per_sqft  \n",
       "0                3699  \n",
       "1                4615  \n",
       "2                4305  \n",
       "3                6245  \n",
       "4                4250  \n",
       "...               ...  \n",
       "13194            6530  \n",
       "13195            6689  \n",
       "13196           11111  \n",
       "13197            5258  \n",
       "13198           10407  \n",
       "\n",
       "[11956 rows x 7 columns]"
      ]
     },
     "execution_count": 311,
     "metadata": {},
     "output_type": "execute_result"
    }
   ],
   "source": [
    "# find outliers\n",
    "df1.loc[(df1['price_per_sqft'] > upper_limit) | (df1['price_per_sqft'] < lower_limit)]"
   ]
  },
  {
   "cell_type": "code",
   "execution_count": 315,
   "id": "7bb8eb13-f904-4643-9249-eb6974b5bff3",
   "metadata": {},
   "outputs": [],
   "source": [
    "# capping (change the outlier values to upper (or) lower limit values\n",
    "new_df=df1.copy()\n",
    "new_df.loc[(new_df['price_per_sqft']>upper_limit), 'price_per_sqft'] = upper_limit\n",
    "new_df.loc[(new_df['price_per_sqft']<lower_limit), 'price_per_sqft'] = lower_limit"
   ]
  },
  {
   "cell_type": "code",
   "execution_count": 317,
   "id": "06abfffd-fcf2-4649-9a9b-4e285904c8f5",
   "metadata": {},
   "outputs": [
    {
     "name": "stdout",
     "output_type": "stream",
     "text": [
      "before removing outliers: 12151\n",
      "after removing outliers: 195\n",
      "outliers: 11956\n"
     ]
    }
   ],
   "source": [
    "# trimming (trimming the outlier data)\n",
    "new_df = df1.loc[(df1['price_per_sqft'] <= upper_limit) & (df1['price_per_sqft']>=lower_limit)]\n",
    "print('before removing outliers:', len(df1))\n",
    "print('after removing outliers:', len(new_df))\n",
    "print('outliers:',len(df1)-len(new_df))"
   ]
  },
  {
   "cell_type": "markdown",
   "id": "55e151cd-bece-4feb-8e99-c1f9b4dbd56b",
   "metadata": {},
   "source": [
    "## z score "
   ]
  },
  {
   "cell_type": "code",
   "execution_count": 325,
   "id": "852c2e7f-32ad-42db-9248-ef0960789836",
   "metadata": {},
   "outputs": [
    {
     "name": "stdout",
     "output_type": "stream",
     "text": [
      "upper limit: 341831.3445273039\n",
      "lower limit: -325566.06084694836\n"
     ]
    }
   ],
   "source": [
    "# find limits\n",
    "upper_limit = df1['price_per_sqft'].mean() + 3*df1['price_per_sqft'].std()\n",
    "lower_limit = df1['price_per_sqft'].mean() - 3* df1['price_per_sqft'].std()\n",
    "print('upper limit:',upper_limit)\n",
    "print('lower limit:',lower_limit)"
   ]
  },
  {
   "cell_type": "code",
   "execution_count": 327,
   "id": "48e13223-89b7-4fe7-be53-ef16416f82b3",
   "metadata": {},
   "outputs": [
    {
     "data": {
      "text/html": [
       "<div>\n",
       "<style scoped>\n",
       "    .dataframe tbody tr th:only-of-type {\n",
       "        vertical-align: middle;\n",
       "    }\n",
       "\n",
       "    .dataframe tbody tr th {\n",
       "        vertical-align: top;\n",
       "    }\n",
       "\n",
       "    .dataframe thead th {\n",
       "        text-align: right;\n",
       "    }\n",
       "</style>\n",
       "<table border=\"1\" class=\"dataframe\">\n",
       "  <thead>\n",
       "    <tr style=\"text-align: right;\">\n",
       "      <th></th>\n",
       "      <th>location</th>\n",
       "      <th>size</th>\n",
       "      <th>total_sqft</th>\n",
       "      <th>bath</th>\n",
       "      <th>price</th>\n",
       "      <th>bhk</th>\n",
       "      <th>price_per_sqft</th>\n",
       "    </tr>\n",
       "  </thead>\n",
       "  <tbody>\n",
       "    <tr>\n",
       "      <th>345</th>\n",
       "      <td>other</td>\n",
       "      <td>3 Bedroom</td>\n",
       "      <td>11.0</td>\n",
       "      <td>3.0</td>\n",
       "      <td>74.0</td>\n",
       "      <td>3</td>\n",
       "      <td>672727</td>\n",
       "    </tr>\n",
       "    <tr>\n",
       "      <th>1106</th>\n",
       "      <td>other</td>\n",
       "      <td>5 Bedroom</td>\n",
       "      <td>24.0</td>\n",
       "      <td>2.0</td>\n",
       "      <td>150.0</td>\n",
       "      <td>5</td>\n",
       "      <td>625000</td>\n",
       "    </tr>\n",
       "    <tr>\n",
       "      <th>4044</th>\n",
       "      <td>Sarjapur  Road</td>\n",
       "      <td>4 Bedroom</td>\n",
       "      <td>1.0</td>\n",
       "      <td>4.0</td>\n",
       "      <td>120.0</td>\n",
       "      <td>4</td>\n",
       "      <td>12000000</td>\n",
       "    </tr>\n",
       "    <tr>\n",
       "      <th>4924</th>\n",
       "      <td>other</td>\n",
       "      <td>7 BHK</td>\n",
       "      <td>5.0</td>\n",
       "      <td>7.0</td>\n",
       "      <td>115.0</td>\n",
       "      <td>7</td>\n",
       "      <td>2300000</td>\n",
       "    </tr>\n",
       "    <tr>\n",
       "      <th>11447</th>\n",
       "      <td>Whitefield</td>\n",
       "      <td>4 Bedroom</td>\n",
       "      <td>60.0</td>\n",
       "      <td>4.0</td>\n",
       "      <td>218.0</td>\n",
       "      <td>4</td>\n",
       "      <td>363333</td>\n",
       "    </tr>\n",
       "  </tbody>\n",
       "</table>\n",
       "</div>"
      ],
      "text/plain": [
       "             location       size  total_sqft  bath  price  bhk  price_per_sqft\n",
       "345             other  3 Bedroom        11.0   3.0   74.0    3          672727\n",
       "1106            other  5 Bedroom        24.0   2.0  150.0    5          625000\n",
       "4044   Sarjapur  Road  4 Bedroom         1.0   4.0  120.0    4        12000000\n",
       "4924            other      7 BHK         5.0   7.0  115.0    7         2300000\n",
       "11447      Whitefield  4 Bedroom        60.0   4.0  218.0    4          363333"
      ]
     },
     "execution_count": 327,
     "metadata": {},
     "output_type": "execute_result"
    }
   ],
   "source": [
    "# find outliers\n",
    "df1.loc[(df1['price_per_sqft'] > upper_limit) | (df1['price_per_sqft'] < lower_limit)]"
   ]
  },
  {
   "cell_type": "code",
   "execution_count": 329,
   "id": "faba6391-8fef-4bd9-a784-3783e618cc76",
   "metadata": {},
   "outputs": [
    {
     "name": "stdout",
     "output_type": "stream",
     "text": [
      "before removing outliers: 12151\n",
      "after removing outliers: 12146\n",
      "outliers: 5\n"
     ]
    }
   ],
   "source": [
    "# trimming (trimming the outlier data)\n",
    "new_df = df1.loc[(df1['price_per_sqft'] <= upper_limit) & (df1['price_per_sqft']>=lower_limit)]\n",
    "print('before removing outliers:', len(df1))\n",
    "print('after removing outliers:', len(new_df))\n",
    "print('outliers:',len(df1)-len(new_df))"
   ]
  },
  {
   "cell_type": "markdown",
   "id": "33ba013c-d7d3-45a6-ae7f-830f91371ec5",
   "metadata": {},
   "source": [
    "## Q3. Create a box plot and use this to determine which method seems to work best to remove outliers for this data? (Score:1)"
   ]
  },
  {
   "cell_type": "code",
   "execution_count": 66,
   "id": "26c3d68c-97eb-46c0-a7b1-f8e1df2f58ea",
   "metadata": {},
   "outputs": [
    {
     "data": {
      "text/plain": [
       "<Axes: xlabel='price_per_sqft'>"
      ]
     },
     "execution_count": 66,
     "metadata": {},
     "output_type": "execute_result"
    },
    {
     "data": {
      "image/png": "[encoded data removed]",
      "text/plain": [
       "<Figure size 640x480 with 1 Axes>"
      ]
     },
     "metadata": {},
     "output_type": "display_data"
    }
   ],
   "source": [
    "sns.boxplot(x=df1['price_per_sqft'])"
   ]
  },
  {
   "cell_type": "markdown",
   "id": "00f99367-c88a-42a9-991a-9fe5777b7413",
   "metadata": {},
   "source": [
    "## IQR METHOD"
   ]
  },
  {
   "cell_type": "code",
   "execution_count": 50,
   "id": "38ed2303-e2f7-411e-a811-ce65eba26296",
   "metadata": {},
   "outputs": [],
   "source": [
    "q1= df1['price_per_sqft'].quantile(0.25)  # 1st quartile\n",
    "q3= df1['price_per_sqft'].quantile(0.75) # 3rd quartile\n",
    "iqr = q3-q1"
   ]
  },
  {
   "cell_type": "code",
   "execution_count": 52,
   "id": "90c7221e-fda4-4835-a4cd-fe886fd79dd3",
   "metadata": {},
   "outputs": [
    {
     "name": "stdout",
     "output_type": "stream",
     "text": [
      "q1: 4312.0\n",
      "q3: 7461.0\n",
      "IQR: 3149.0\n"
     ]
    }
   ],
   "source": [
    "print('q1:',q1)\n",
    "print('q3:', q3)\n",
    "print('IQR:',iqr)"
   ]
  },
  {
   "cell_type": "code",
   "execution_count": 54,
   "id": "eecaf4ef-4d53-42f9-8253-070ed6f30250",
   "metadata": {},
   "outputs": [
    {
     "name": "stdout",
     "output_type": "stream",
     "text": [
      "UPPER LIMIT: 12184.5\n",
      "LOWER LIMIT: -411.5\n"
     ]
    }
   ],
   "source": [
    "# gives possible upper limit and lower limits\n",
    "upper_limit=q3+(1.5*iqr)\n",
    "lower_limit=q1-(1.5*iqr)\n",
    "print('UPPER LIMIT:',upper_limit)\n",
    "print('LOWER LIMIT:',lower_limit)"
   ]
  },
  {
   "cell_type": "code",
   "execution_count": 60,
   "id": "3e945267-75c7-4c94-a410-872a0abe7e31",
   "metadata": {},
   "outputs": [],
   "source": [
    "\n",
    "# Capping (to remove outliers)\n",
    "new_df = df1.copy()\n",
    "new_df.loc[new_df['price_per_sqft'] > upper_limit, 'price_per_sqft'] = upper_limit\n",
    "new_df.loc[new_df['price_per_sqft'] < lower_limit, 'price_per_sqft'] = lower_limit\n"
   ]
  },
  {
   "cell_type": "code",
   "execution_count": 62,
   "id": "944e79bc-c4dd-47ad-b5e9-589aad6097a3",
   "metadata": {},
   "outputs": [
    {
     "data": {
      "text/plain": [
       "<Axes: xlabel='price_per_sqft'>"
      ]
     },
     "execution_count": 62,
     "metadata": {},
     "output_type": "execute_result"
    },
    {
     "data": {
      "image/png": "[encoded data removed]",
      "text/plain": [
       "<Figure size 640x480 with 1 Axes>"
      ]
     },
     "metadata": {},
     "output_type": "display_data"
    }
   ],
   "source": [
    "sns.boxplot(x=new_df['price_per_sqft'])\n",
    "# BOX PLOT AFTER CAPPING"
   ]
  },
  {
   "cell_type": "markdown",
   "id": "4c4c6a4f-1806-40d2-bb1d-f9caf171434f",
   "metadata": {},
   "source": [
    "## Q4. Draw histplot to check the normality of the column(price per sqft column) and perform transformations if needed. \n",
    "## Check the skewness and kurtosis before and after the transformation. (Score:1)"
   ]
  },
  {
   "cell_type": "code",
   "execution_count": 331,
   "id": "bf67e610-e7a8-48d6-b1be-2b84189ffd94",
   "metadata": {},
   "outputs": [
    {
     "data": {
      "image/png": "[encoded data removed]",
      "text/plain": [
       "<Figure size 1000x600 with 1 Axes>"
      ]
     },
     "metadata": {},
     "output_type": "display_data"
    }
   ],
   "source": [
    "# NOTE : KDE helps us see the shape of the data distribution more clearly,\n",
    "# especially in identifying patterns, skewness, or multimodal distributions.\n",
    "\n",
    "plt.figure(figsize=(10, 6))\n",
    "sns.histplot(df1['price_per_sqft'], bins=30, kde=True)\n",
    "plt.title('Histogram of Price per Sqft')\n",
    "plt.xlabel('Price per Sqft')\n",
    "plt.ylabel('Frequency')\n",
    "plt.show()"
   ]
  },
  {
   "cell_type": "code",
   "execution_count": 333,
   "id": "c9fab716-b889-443d-b631-c9e1d7e41071",
   "metadata": {},
   "outputs": [
    {
     "name": "stdout",
     "output_type": "stream",
     "text": [
      "Skewness before transformation: 103.90203228991889\n",
      "Kurtosis before transformation: 11135.81306761006\n"
     ]
    }
   ],
   "source": [
    "# Check Skewness and Kurtosis Before Transformation\n",
    "\n",
    "# NOTE : Skewness indicates the asymmetry of the distribution. For normal distribution, skewness should be close to 0.\n",
    "# NOTE : Kurtosis indicates the \"tailedness\" of the distribution. For a normal distribution, kurtosis is close to 3.\n",
    "skewness_before = df1['price_per_sqft'].skew()\n",
    "kurtosis_before = df1['price_per_sqft'].kurt()\n",
    "print(f\"Skewness before transformation: {skewness_before}\")\n",
    "print(f\"Kurtosis before transformation: {kurtosis_before}\")\n"
   ]
  },
  {
   "cell_type": "markdown",
   "id": "f2c33775-73e5-4112-babd-8b7fd6b1822c",
   "metadata": {},
   "source": [
    "NOTE: Skewness = 103.90indicates a very high positive skew. This means that your data is highly right-skewed, with a long tail on the right side.\n",
    "Kurtosis = 11135.81 is extremely high, indicating a distribution with very heavy tails and likely many outliers."
   ]
  },
  {
   "cell_type": "code",
   "execution_count": 335,
   "id": "c1e54b9a-1283-4f63-853f-e5aa54667321",
   "metadata": {},
   "outputs": [
    {
     "name": "stdout",
     "output_type": "stream",
     "text": [
      "Transformation successful. Transformed data preview:\n",
      "0    8.216088\n",
      "1    8.437284\n",
      "2    8.367765\n",
      "3    8.739697\n",
      "4    8.354910\n",
      "Name: price_per_sqft, dtype: float64\n"
     ]
    }
   ],
   "source": [
    "# Transformation Needed\n",
    "transformed_price_per_sqft = np.log(df1['price_per_sqft'] + 1)  # Adding 1 to avoid log(0)\n",
    "# Check if the transformation was successful\n",
    "print(\"Transformation successful. Transformed data preview:\")\n",
    "print(transformed_price_per_sqft.head())"
   ]
  },
  {
   "cell_type": "code",
   "execution_count": 161,
   "id": "8236f4aa-c14d-4fe2-bd21-07e0524861c4",
   "metadata": {},
   "outputs": [
    {
     "data": {
      "image/png": "[encoded data removed]",
      "text/plain": [
       "<Figure size 1000x600 with 1 Axes>"
      ]
     },
     "metadata": {},
     "output_type": "display_data"
    }
   ],
   "source": [
    "#  histogram of the transformed data\n",
    "plt.figure(figsize=(10, 6))\n",
    "sns.histplot(transformed_price_per_sqft, bins=30, kde=True)\n",
    "plt.title('Histogram of Transformed Price per Sqft')\n",
    "plt.xlabel('Transformed Price per Sqft')\n",
    "plt.ylabel('Frequency')\n",
    "plt.show()\n"
   ]
  },
  {
   "cell_type": "code",
   "execution_count": 337,
   "id": "1db5f48b-639e-4445-8f43-8fa890736fcb",
   "metadata": {},
   "outputs": [
    {
     "name": "stdout",
     "output_type": "stream",
     "text": [
      "Skewness after transformation: 1.400870354404583\n",
      "Kurtosis after transformation: 9.404434549652514\n"
     ]
    }
   ],
   "source": [
    "# skewness and kurtosis after transformation\n",
    "transformed_skewness = skew(transformed_price_per_sqft)\n",
    "transformed_kurtosis = kurtosis(transformed_price_per_sqft)\n",
    "print(f'Skewness after transformation: {transformed_skewness}')\n",
    "print(f'Kurtosis after transformation: {transformed_kurtosis}')"
   ]
  },
  {
   "cell_type": "markdown",
   "id": "481425d7-04a8-4d1b-bbfe-72a24832669a",
   "metadata": {},
   "source": [
    "## Q5. Check the correlation between all the numerical columns and plot heatmap. (Score:1)\n"
   ]
  },
  {
   "cell_type": "code",
   "execution_count": 339,
   "id": "743d25a1-494f-45f8-82e2-ae69faa2fbbd",
   "metadata": {},
   "outputs": [],
   "source": [
    "# numerical columns\n",
    "numerical_columns = ['total_sqft', 'bath', 'price', 'bhk', 'price_per_sqft']\n",
    "df_numerical = df1[numerical_columns]"
   ]
  },
  {
   "cell_type": "code",
   "execution_count": 341,
   "id": "2bf40767-f0bc-4bda-9ff4-15c63890d64a",
   "metadata": {},
   "outputs": [
    {
     "name": "stdout",
     "output_type": "stream",
     "text": [
      "Correlation Matrix:\n",
      "                total_sqft      bath     price       bhk  price_per_sqft\n",
      "total_sqft        1.000000  0.386694  0.572516  0.339936       -0.008877\n",
      "bath              0.386694  1.000000  0.448802  0.898875        0.030133\n",
      "price             0.572516  0.448802  1.000000  0.390008        0.027415\n",
      "bhk               0.339936  0.898875  0.390008  1.000000        0.030294\n",
      "price_per_sqft   -0.008877  0.030133  0.027415  0.030294        1.000000\n"
     ]
    }
   ],
   "source": [
    "# correlation matrix\n",
    "correlation_matrix = df_numerical.corr()\n",
    "print(\"Correlation Matrix:\")\n",
    "print(correlation_matrix)"
   ]
  },
  {
   "cell_type": "code",
   "execution_count": 343,
   "id": "7730bc4f-5e0d-4e11-bb1d-02eb59518f63",
   "metadata": {},
   "outputs": [
    {
     "data": {
      "image/png": "[encoded data removed]",
      "text/plain": [
       "<Figure size 1000x600 with 2 Axes>"
      ]
     },
     "metadata": {},
     "output_type": "display_data"
    }
   ],
   "source": [
    "#  heatmap\n",
    "plt.figure(figsize=(10, 6))\n",
    "sns.heatmap(correlation_matrix,  annot=True, fmt=\".2f\", cmap='coolwarm')\n",
    "plt.title('Correlation Heatmap of Numerical Columns')\n",
    "plt.show()"
   ]
  },
  {
   "cell_type": "markdown",
   "id": "1ce44788-e3ff-4ef9-b550-33e869faeb33",
   "metadata": {},
   "source": [
    "## Q6. Draw Scatter plot between the variables to check the correlation between them. (Score:1)"
   ]
  },
  {
   "cell_type": "code",
   "execution_count": 51,
   "id": "948d40b2-a481-491f-b7c0-88ed71e298b4",
   "metadata": {},
   "outputs": [
    {
     "data": {
      "image/png": "[encoded data removed]",
      "text/plain": [
       "<Figure size 1250x1250 with 30 Axes>"
      ]
     },
     "metadata": {},
     "output_type": "display_data"
    }
   ],
   "source": [
    "sns.pairplot(df1[numerical_columns])\n",
    "plt.suptitle('Scatter Plots of Numerical Variables')  # Title adjustment ,y=1.02\n",
    "plt.show()"
   ]
  },
  {
   "cell_type": "code",
   "execution_count": null,
   "id": "245274cc-2fea-462c-91c6-6cdfdd81c893",
   "metadata": {},
   "outputs": [],
   "source": []
  }
 ],
 "metadata": {
  "kernelspec": {
   "display_name": "Python 3 (ipykernel)",
   "language": "python",
   "name": "python3"
  },
  "language_info": {
   "codemirror_mode": {
    "name": "ipython",
    "version": 3
   },
   "file_extension": ".py",
   "mimetype": "text/x-python",
   "name": "python",
   "nbconvert_exporter": "python",
   "pygments_lexer": "ipython3",
   "version": "3.12.4"
  }
 },
 "nbformat": 4,
 "nbformat_minor": 5
}
